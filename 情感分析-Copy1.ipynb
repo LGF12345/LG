{
 "cells": [
  {
   "cell_type": "markdown",
   "id": "1bb051dc",
   "metadata": {},
   "source": [
    "# 导入数据库"
   ]
  },
  {
   "cell_type": "code",
   "execution_count": 1,
   "id": "100a286a",
   "metadata": {
    "tags": []
   },
   "outputs": [],
   "source": [
    "#数据处理库\n",
    "import numpy as np\n",
    "import pandas as pd\n",
    "import glob\n",
    "import re\n",
    "import jieba\n",
    "\n",
    "#可视化库\n",
    "import stylecloud\n",
    "import matplotlib.pyplot as plt\n",
    "import seaborn as sns\n",
    "%matplotlib inline\n",
    "from pyecharts.charts import *\n",
    "from pyecharts import options as opts\n",
    "from pyecharts.globals import ThemeType \n",
    "from IPython.display import Image\n",
    "from palettable.colorbrewer.qualitative import Pastel1_7\n",
    "plt.rcParams['font.sans-serif'] = ['Simhei'] # 解决中文乱码问题\n",
    "\n",
    "#文本挖掘库\n",
    "from snownlp import SnowNLP\n",
    "from gensim import corpora,models\n",
    "import csv"
   ]
  },
  {
   "cell_type": "markdown",
   "id": "1e931045",
   "metadata": {},
   "source": [
    "# 数据导入"
   ]
  },
  {
   "cell_type": "code",
   "execution_count": 2,
   "id": "20a1d326",
   "metadata": {
    "tags": []
   },
   "outputs": [
    {
     "data": {
      "text/html": [
       "<div>\n",
       "<style scoped>\n",
       "    .dataframe tbody tr th:only-of-type {\n",
       "        vertical-align: middle;\n",
       "    }\n",
       "\n",
       "    .dataframe tbody tr th {\n",
       "        vertical-align: top;\n",
       "    }\n",
       "\n",
       "    .dataframe thead th {\n",
       "        text-align: right;\n",
       "    }\n",
       "</style>\n",
       "<table border=\"1\" class=\"dataframe\">\n",
       "  <thead>\n",
       "    <tr style=\"text-align: right;\">\n",
       "      <th></th>\n",
       "      <th>原文本</th>\n",
       "    </tr>\n",
       "  </thead>\n",
       "  <tbody>\n",
       "    <tr>\n",
       "      <th>0</th>\n",
       "      <td>最炫民族风这就是文化自信</td>\n",
       "    </tr>\n",
       "    <tr>\n",
       "      <th>1</th>\n",
       "      <td>足协如果要来，所有宾馆，酒店，饭店一律不于接待，让他滾蛋。</td>\n",
       "    </tr>\n",
       "    <tr>\n",
       "      <th>2</th>\n",
       "      <td>来看有好处费没得，无利不起早</td>\n",
       "    </tr>\n",
       "    <tr>\n",
       "      <th>3</th>\n",
       "      <td>这个能像巴西一样。提起对足球的热情。才能变好</td>\n",
       "    </tr>\n",
       "    <tr>\n",
       "      <th>4</th>\n",
       "      <td>他们最好别去！他们是藏民朝圣，走到哪，败（拜）到哪。</td>\n",
       "    </tr>\n",
       "    <tr>\n",
       "      <th>...</th>\n",
       "      <td>...</td>\n",
       "    </tr>\n",
       "    <tr>\n",
       "      <th>12308</th>\n",
       "      <td>贵州办运动会真的是比着来的，别的村办了我们村不服，咱也来一个，到处都是，看累了给你发点小零食...</td>\n",
       "    </tr>\n",
       "    <tr>\n",
       "      <th>12309</th>\n",
       "      <td>榕江，体操之乡，不是吹的</td>\n",
       "    </tr>\n",
       "    <tr>\n",
       "      <th>12310</th>\n",
       "      <td>欢迎再来榕江~~~~</td>\n",
       "    </tr>\n",
       "    <tr>\n",
       "      <th>12311</th>\n",
       "      <td>这种足球精神</td>\n",
       "    </tr>\n",
       "    <tr>\n",
       "      <th>12312</th>\n",
       "      <td>从村超可以看出，真实的东西都在民间。</td>\n",
       "    </tr>\n",
       "  </tbody>\n",
       "</table>\n",
       "<p>12313 rows × 1 columns</p>\n",
       "</div>"
      ],
      "text/plain": [
       "                                                     原文本\n",
       "0                                           最炫民族风这就是文化自信\n",
       "1                          足协如果要来，所有宾馆，酒店，饭店一律不于接待，让他滾蛋。\n",
       "2                                         来看有好处费没得，无利不起早\n",
       "3                                 这个能像巴西一样。提起对足球的热情。才能变好\n",
       "4                             他们最好别去！他们是藏民朝圣，走到哪，败（拜）到哪。\n",
       "...                                                  ...\n",
       "12308  贵州办运动会真的是比着来的，别的村办了我们村不服，咱也来一个，到处都是，看累了给你发点小零食...\n",
       "12309                                       榕江，体操之乡，不是吹的\n",
       "12310                                         欢迎再来榕江~~~~\n",
       "12311                                             这种足球精神\n",
       "12312                                 从村超可以看出，真实的东西都在民间。\n",
       "\n",
       "[12313 rows x 1 columns]"
      ]
     },
     "execution_count": 2,
     "metadata": {},
     "output_type": "execute_result"
    }
   ],
   "source": [
    "df = pd.read_excel('D:\\\\情感分析\\\\data\\\\波动期.xlsx',header=None)\n",
    "df.columns=['原文本']\n",
    "df"
   ]
  },
  {
   "cell_type": "markdown",
   "id": "7b24dce3",
   "metadata": {},
   "source": [
    "# 数据清洗"
   ]
  },
  {
   "cell_type": "markdown",
   "id": "01ad83c6",
   "metadata": {},
   "source": [
    "### 1.文本去噪"
   ]
  },
  {
   "cell_type": "markdown",
   "id": "b18c5773",
   "metadata": {},
   "source": [
    "爬取的原始文字语料中往往含有很多干扰信息，包括标点符号、数字、英文字母、转换符等噪声， 这些脏数据也会对情感分析产生一定影响,因此这些是我们首先要删除的，即通过文本去噪以获得干净的文本数据。"
   ]
  },
  {
   "cell_type": "code",
   "execution_count": 3,
   "id": "04c7afee",
   "metadata": {
    "tags": []
   },
   "outputs": [
    {
     "data": {
      "text/html": [
       "<div>\n",
       "<style scoped>\n",
       "    .dataframe tbody tr th:only-of-type {\n",
       "        vertical-align: middle;\n",
       "    }\n",
       "\n",
       "    .dataframe tbody tr th {\n",
       "        vertical-align: top;\n",
       "    }\n",
       "\n",
       "    .dataframe thead th {\n",
       "        text-align: right;\n",
       "    }\n",
       "</style>\n",
       "<table border=\"1\" class=\"dataframe\">\n",
       "  <thead>\n",
       "    <tr style=\"text-align: right;\">\n",
       "      <th></th>\n",
       "      <th>原文本</th>\n",
       "      <th>text</th>\n",
       "    </tr>\n",
       "  </thead>\n",
       "  <tbody>\n",
       "    <tr>\n",
       "      <th>0</th>\n",
       "      <td>最炫民族风这就是文化自信</td>\n",
       "      <td>最炫民族风这就是文化自信</td>\n",
       "    </tr>\n",
       "    <tr>\n",
       "      <th>1</th>\n",
       "      <td>足协如果要来，所有宾馆，酒店，饭店一律不于接待，让他滾蛋。</td>\n",
       "      <td>足协如果要来所有宾馆酒店饭店一律不于接待让他滾蛋</td>\n",
       "    </tr>\n",
       "    <tr>\n",
       "      <th>2</th>\n",
       "      <td>来看有好处费没得，无利不起早</td>\n",
       "      <td>来看有好处费没得无利不起早</td>\n",
       "    </tr>\n",
       "    <tr>\n",
       "      <th>3</th>\n",
       "      <td>这个能像巴西一样。提起对足球的热情。才能变好</td>\n",
       "      <td>这个能像巴西一样提起对足球的热情才能变好</td>\n",
       "    </tr>\n",
       "    <tr>\n",
       "      <th>4</th>\n",
       "      <td>他们最好别去！他们是藏民朝圣，走到哪，败（拜）到哪。</td>\n",
       "      <td>他们最好别去他们是藏民朝圣走到哪败拜到哪</td>\n",
       "    </tr>\n",
       "    <tr>\n",
       "      <th>...</th>\n",
       "      <td>...</td>\n",
       "      <td>...</td>\n",
       "    </tr>\n",
       "    <tr>\n",
       "      <th>12308</th>\n",
       "      <td>贵州办运动会真的是比着来的，别的村办了我们村不服，咱也来一个，到处都是，看累了给你发点小零食...</td>\n",
       "      <td>贵州办运动会真的是比着来的别的村办了我们村不服咱也来一个到处都是看累了给你发点小零食我们村为...</td>\n",
       "    </tr>\n",
       "    <tr>\n",
       "      <th>12309</th>\n",
       "      <td>榕江，体操之乡，不是吹的</td>\n",
       "      <td>榕江体操之乡不是吹的</td>\n",
       "    </tr>\n",
       "    <tr>\n",
       "      <th>12310</th>\n",
       "      <td>欢迎再来榕江~~~~</td>\n",
       "      <td>欢迎再来榕江</td>\n",
       "    </tr>\n",
       "    <tr>\n",
       "      <th>12311</th>\n",
       "      <td>这种足球精神</td>\n",
       "      <td>这种足球精神</td>\n",
       "    </tr>\n",
       "    <tr>\n",
       "      <th>12312</th>\n",
       "      <td>从村超可以看出，真实的东西都在民间。</td>\n",
       "      <td>从村超可以看出真实的东西都在民间</td>\n",
       "    </tr>\n",
       "  </tbody>\n",
       "</table>\n",
       "<p>12313 rows × 2 columns</p>\n",
       "</div>"
      ],
      "text/plain": [
       "                                                     原文本  \\\n",
       "0                                           最炫民族风这就是文化自信   \n",
       "1                          足协如果要来，所有宾馆，酒店，饭店一律不于接待，让他滾蛋。   \n",
       "2                                         来看有好处费没得，无利不起早   \n",
       "3                                 这个能像巴西一样。提起对足球的热情。才能变好   \n",
       "4                             他们最好别去！他们是藏民朝圣，走到哪，败（拜）到哪。   \n",
       "...                                                  ...   \n",
       "12308  贵州办运动会真的是比着来的，别的村办了我们村不服，咱也来一个，到处都是，看累了给你发点小零食...   \n",
       "12309                                       榕江，体操之乡，不是吹的   \n",
       "12310                                         欢迎再来榕江~~~~   \n",
       "12311                                             这种足球精神   \n",
       "12312                                 从村超可以看出，真实的东西都在民间。   \n",
       "\n",
       "                                                    text  \n",
       "0                                           最炫民族风这就是文化自信  \n",
       "1                               足协如果要来所有宾馆酒店饭店一律不于接待让他滾蛋  \n",
       "2                                          来看有好处费没得无利不起早  \n",
       "3                                   这个能像巴西一样提起对足球的热情才能变好  \n",
       "4                                   他们最好别去他们是藏民朝圣走到哪败拜到哪  \n",
       "...                                                  ...  \n",
       "12308  贵州办运动会真的是比着来的别的村办了我们村不服咱也来一个到处都是看累了给你发点小零食我们村为...  \n",
       "12309                                         榕江体操之乡不是吹的  \n",
       "12310                                             欢迎再来榕江  \n",
       "12311                                             这种足球精神  \n",
       "12312                                   从村超可以看出真实的东西都在民间  \n",
       "\n",
       "[12313 rows x 2 columns]"
      ]
     },
     "execution_count": 3,
     "metadata": {},
     "output_type": "execute_result"
    }
   ],
   "source": [
    "r1 = '[\\s+\\.!\\/_,$%^*(+\\\"\\')]+|[:：+——()?【】“”！，。？、~@#￥%……&*（）]+'#正则化表达式\n",
    "r2 = '[^\\u4e00-\\u9fa5]'\n",
    "\n",
    "df['text'] = df['原文本'].str.replace(r1,'',regex=True) #删除标点符号\n",
    "df['text'] = df['原文本'].str.replace(r2,'',regex=True) #删除英文和数字\n",
    "df"
   ]
  },
  {
   "cell_type": "markdown",
   "id": "7e1a9144",
   "metadata": {},
   "source": [
    "### 2.文本去重"
   ]
  },
  {
   "cell_type": "code",
   "execution_count": 4,
   "id": "500ba0f5",
   "metadata": {
    "tags": []
   },
   "outputs": [],
   "source": [
    "#转换数据类型\n",
    "df['text']=df['text'].astype('string')"
   ]
  },
  {
   "cell_type": "code",
   "execution_count": 5,
   "id": "905b31ce",
   "metadata": {
    "tags": []
   },
   "outputs": [
    {
     "data": {
      "text/plain": [
       "(12313, 2)"
      ]
     },
     "execution_count": 5,
     "metadata": {},
     "output_type": "execute_result"
    }
   ],
   "source": [
    "#去除重复值\n",
    "df['text'].drop_duplicates(inplace=True)\n",
    "#删除存在缺失值的行\n",
    "df = df[df['text']!='']\n",
    "df = df[df['text']!=' ']\n",
    "#恢复索引\n",
    "df.index = range(df.shape[0])\n",
    "df.shape"
   ]
  },
  {
   "cell_type": "code",
   "execution_count": 6,
   "id": "dc219298",
   "metadata": {
    "tags": []
   },
   "outputs": [],
   "source": [
    "df.to_excel(\"D:\\\\情感分析\\\\result\\\\波动期数据清洗后结果.xlsx\")"
   ]
  },
  {
   "cell_type": "markdown",
   "id": "0640e654",
   "metadata": {},
   "source": [
    "# 情感分析"
   ]
  },
  {
   "cell_type": "markdown",
   "id": "df59b2d2",
   "metadata": {},
   "source": [
    "## 使用SnowNLP进行情感分析"
   ]
  },
  {
   "cell_type": "markdown",
   "id": "0a5539e5",
   "metadata": {},
   "source": [
    "Snow NLP是适用于中文自然语言处理的Python类库，专门针对中文文本进行挖掘， 主要可以进行中文分词、词性标注、情感分析、文本分类、转换拼音、繁体转简体、提取文本关键词、提取摘要、分割句子、文本相似。"
   ]
  },
  {
   "cell_type": "code",
   "execution_count": 6,
   "id": "ebe0c7e2",
   "metadata": {
    "tags": []
   },
   "outputs": [
    {
     "name": "stderr",
     "output_type": "stream",
     "text": [
      "C:\\Users\\Lenovo\\AppData\\Local\\Temp\\ipykernel_46644\\987842596.py:8: SettingWithCopyWarning: \n",
      "A value is trying to be set on a copy of a slice from a DataFrame\n",
      "\n",
      "See the caveats in the documentation: https://pandas.pydata.org/pandas-docs/stable/user_guide/indexing.html#returning-a-view-versus-a-copy\n",
      "  df['semilabel'][i] = 1\n",
      "C:\\Users\\Lenovo\\AppData\\Local\\Temp\\ipykernel_46644\\987842596.py:10: SettingWithCopyWarning: \n",
      "A value is trying to be set on a copy of a slice from a DataFrame\n",
      "\n",
      "See the caveats in the documentation: https://pandas.pydata.org/pandas-docs/stable/user_guide/indexing.html#returning-a-view-versus-a-copy\n",
      "  df['semilabel'][i] = -1\n",
      "C:\\Users\\Lenovo\\AppData\\Local\\Temp\\ipykernel_46644\\987842596.py:12: SettingWithCopyWarning: \n",
      "A value is trying to be set on a copy of a slice from a DataFrame\n",
      "\n",
      "See the caveats in the documentation: https://pandas.pydata.org/pandas-docs/stable/user_guide/indexing.html#returning-a-view-versus-a-copy\n",
      "  df['semilabel'][i] = 0\n"
     ]
    },
    {
     "data": {
      "text/html": [
       "<div>\n",
       "<style scoped>\n",
       "    .dataframe tbody tr th:only-of-type {\n",
       "        vertical-align: middle;\n",
       "    }\n",
       "\n",
       "    .dataframe tbody tr th {\n",
       "        vertical-align: top;\n",
       "    }\n",
       "\n",
       "    .dataframe thead th {\n",
       "        text-align: right;\n",
       "    }\n",
       "</style>\n",
       "<table border=\"1\" class=\"dataframe\">\n",
       "  <thead>\n",
       "    <tr style=\"text-align: right;\">\n",
       "      <th></th>\n",
       "      <th>text</th>\n",
       "      <th>semiscore</th>\n",
       "      <th>semilabel</th>\n",
       "    </tr>\n",
       "  </thead>\n",
       "  <tbody>\n",
       "    <tr>\n",
       "      <th>0</th>\n",
       "      <td>最炫民族风这就是文化自信</td>\n",
       "      <td>0.995384</td>\n",
       "      <td>1</td>\n",
       "    </tr>\n",
       "    <tr>\n",
       "      <th>1</th>\n",
       "      <td>足协如果要来所有宾馆酒店饭店一律不于接待让他滾蛋</td>\n",
       "      <td>0.742295</td>\n",
       "      <td>1</td>\n",
       "    </tr>\n",
       "    <tr>\n",
       "      <th>2</th>\n",
       "      <td>来看有好处费没得无利不起早</td>\n",
       "      <td>0.380247</td>\n",
       "      <td>-1</td>\n",
       "    </tr>\n",
       "    <tr>\n",
       "      <th>3</th>\n",
       "      <td>这个能像巴西一样提起对足球的热情才能变好</td>\n",
       "      <td>0.984316</td>\n",
       "      <td>1</td>\n",
       "    </tr>\n",
       "    <tr>\n",
       "      <th>4</th>\n",
       "      <td>他们最好别去他们是藏民朝圣走到哪败拜到哪</td>\n",
       "      <td>0.905087</td>\n",
       "      <td>1</td>\n",
       "    </tr>\n",
       "    <tr>\n",
       "      <th>...</th>\n",
       "      <td>...</td>\n",
       "      <td>...</td>\n",
       "      <td>...</td>\n",
       "    </tr>\n",
       "    <tr>\n",
       "      <th>12308</th>\n",
       "      <td>贵州办运动会真的是比着来的别的村办了我们村不服咱也来一个到处都是看累了给你发点小零食我们村为...</td>\n",
       "      <td>0.413613</td>\n",
       "      <td>0</td>\n",
       "    </tr>\n",
       "    <tr>\n",
       "      <th>12309</th>\n",
       "      <td>榕江体操之乡不是吹的</td>\n",
       "      <td>0.092771</td>\n",
       "      <td>-1</td>\n",
       "    </tr>\n",
       "    <tr>\n",
       "      <th>12310</th>\n",
       "      <td>欢迎再来榕江</td>\n",
       "      <td>0.680239</td>\n",
       "      <td>1</td>\n",
       "    </tr>\n",
       "    <tr>\n",
       "      <th>12311</th>\n",
       "      <td>这种足球精神</td>\n",
       "      <td>0.675707</td>\n",
       "      <td>1</td>\n",
       "    </tr>\n",
       "    <tr>\n",
       "      <th>12312</th>\n",
       "      <td>从村超可以看出真实的东西都在民间</td>\n",
       "      <td>0.257945</td>\n",
       "      <td>-1</td>\n",
       "    </tr>\n",
       "  </tbody>\n",
       "</table>\n",
       "<p>12313 rows × 3 columns</p>\n",
       "</div>"
      ],
      "text/plain": [
       "                                                    text  semiscore  semilabel\n",
       "0                                           最炫民族风这就是文化自信   0.995384          1\n",
       "1                               足协如果要来所有宾馆酒店饭店一律不于接待让他滾蛋   0.742295          1\n",
       "2                                          来看有好处费没得无利不起早   0.380247         -1\n",
       "3                                   这个能像巴西一样提起对足球的热情才能变好   0.984316          1\n",
       "4                                   他们最好别去他们是藏民朝圣走到哪败拜到哪   0.905087          1\n",
       "...                                                  ...        ...        ...\n",
       "12308  贵州办运动会真的是比着来的别的村办了我们村不服咱也来一个到处都是看累了给你发点小零食我们村为...   0.413613          0\n",
       "12309                                         榕江体操之乡不是吹的   0.092771         -1\n",
       "12310                                             欢迎再来榕江   0.680239          1\n",
       "12311                                             这种足球精神   0.675707          1\n",
       "12312                                   从村超可以看出真实的东西都在民间   0.257945         -1\n",
       "\n",
       "[12313 rows x 3 columns]"
      ]
     },
     "execution_count": 6,
     "metadata": {},
     "output_type": "execute_result"
    }
   ],
   "source": [
    "#利用SnowNlP库将评论数据分为正面评论、负面评论和中性评论\n",
    "#得分值大于0.6判定为正面，小于0.4为负面，其余为中性\n",
    "df['semiscore'] = df['text'].apply(lambda x:SnowNLP(x).sentiments)\n",
    "\n",
    "df['semilabel'] = 0\n",
    "for i in range(len(df['semiscore'])):\n",
    "    if df['semiscore'][i] > 0.6:\n",
    "        df['semilabel'][i] = 1\n",
    "    elif df['semiscore'][i] < 0.4:\n",
    "        df['semilabel'][i] = -1\n",
    "    else:\n",
    "        df['semilabel'][i] = 0\n",
    "df[['text','semiscore','semilabel']]"
   ]
  },
  {
   "cell_type": "code",
   "execution_count": 7,
   "id": "c529d3f6",
   "metadata": {
    "tags": []
   },
   "outputs": [
    {
     "data": {
      "text/html": [
       "<div>\n",
       "<style scoped>\n",
       "    .dataframe tbody tr th:only-of-type {\n",
       "        vertical-align: middle;\n",
       "    }\n",
       "\n",
       "    .dataframe tbody tr th {\n",
       "        vertical-align: top;\n",
       "    }\n",
       "\n",
       "    .dataframe thead th {\n",
       "        text-align: right;\n",
       "    }\n",
       "</style>\n",
       "<table border=\"1\" class=\"dataframe\">\n",
       "  <thead>\n",
       "    <tr style=\"text-align: right;\">\n",
       "      <th></th>\n",
       "      <th>原文本</th>\n",
       "      <th>text</th>\n",
       "      <th>semiscore</th>\n",
       "      <th>semilabel</th>\n",
       "    </tr>\n",
       "  </thead>\n",
       "  <tbody>\n",
       "    <tr>\n",
       "      <th>10522</th>\n",
       "      <td>不好意思，借下热度，请允许我为中药发声\\n中医药是中华民族最宝贵的文化遗产之一，具有多方面的...</td>\n",
       "      <td>不好意思借下热度请允许我为中药发声中医药是中华民族最宝贵的文化遗产之一具有多方面的价值和意义...</td>\n",
       "      <td>1.000000e+00</td>\n",
       "      <td>1</td>\n",
       "    </tr>\n",
       "    <tr>\n",
       "      <th>11253</th>\n",
       "      <td>爽爽的贵州迎八方来客，欢迎您来贵州村超现场感受浓烈的足球文化氛围，品我们贵州榕江的当地特色美...</td>\n",
       "      <td>爽爽的贵州迎八方来客欢迎您来贵州村超现场感受浓烈的足球文化氛围品我们贵州榕江的当地特色美食赏...</td>\n",
       "      <td>1.000000e+00</td>\n",
       "      <td>1</td>\n",
       "    </tr>\n",
       "    <tr>\n",
       "      <th>10339</th>\n",
       "      <td>希望大家不要嫌烦也不要讨厌，每刷一个视频都会复制一下。希望大家也复制一下，动动手的事。\\n ...</td>\n",
       "      <td>希望大家不要嫌烦也不要讨厌每刷一个视频都会复制一下希望大家也复制一下动动手的事日本把伤寒论申...</td>\n",
       "      <td>1.000000e+00</td>\n",
       "      <td>1</td>\n",
       "    </tr>\n",
       "    <tr>\n",
       "      <th>10934</th>\n",
       "      <td>看得我莫名想哭，很多话想说也无从说起，在外地上学太久了真的非常想念我家大贵州，放假好不容易回...</td>\n",
       "      <td>看得我莫名想哭很多话想说也无从说起在外地上学太久了真的非常想念我家大贵州放假好不容易回家了看...</td>\n",
       "      <td>1.000000e+00</td>\n",
       "      <td>1</td>\n",
       "    </tr>\n",
       "    <tr>\n",
       "      <th>8689</th>\n",
       "      <td>我们贵州人民勤劳朴实好客，山美水美人更美，我们贵州苗族很多 ，美食也很多  欢迎大家多来贵州...</td>\n",
       "      <td>我们贵州人民勤劳朴实好客山美水美人更美我们贵州苗族很多美食也很多欢迎大家多来贵州感受我们苗族...</td>\n",
       "      <td>1.000000e+00</td>\n",
       "      <td>1</td>\n",
       "    </tr>\n",
       "    <tr>\n",
       "      <th>...</th>\n",
       "      <td>...</td>\n",
       "      <td>...</td>\n",
       "      <td>...</td>\n",
       "      <td>...</td>\n",
       "    </tr>\n",
       "    <tr>\n",
       "      <th>5026</th>\n",
       "      <td>没有搞不好的事，只有没有做的人，没有搞不好的体育，只有不用信去做的人！贵州体育，打了全国各地...</td>\n",
       "      <td>没有搞不好的事只有没有做的人没有搞不好的体育只有不用信去做的人贵州体育打了全国各地狗屎体育强...</td>\n",
       "      <td>3.185351e-08</td>\n",
       "      <td>-1</td>\n",
       "    </tr>\n",
       "    <tr>\n",
       "      <th>5389</th>\n",
       "      <td>国足：骂骂咧咧地说 取消掉他 取消掉他 取消掉他</td>\n",
       "      <td>国足骂骂咧咧地说取消掉他取消掉他取消掉他</td>\n",
       "      <td>1.793555e-08</td>\n",
       "      <td>-1</td>\n",
       "    </tr>\n",
       "    <tr>\n",
       "      <th>3893</th>\n",
       "      <td>前几天哪里我就不说了，我老公这边现在在搞旅游景点开发，前几天搞活动，我一个外地的都觉得丢人宣...</td>\n",
       "      <td>前几天哪里我就不说了我老公这边现在在搞旅游景点开发前几天搞活动我一个外地的都觉得丢人宣传本地...</td>\n",
       "      <td>4.521925e-09</td>\n",
       "      <td>-1</td>\n",
       "    </tr>\n",
       "    <tr>\n",
       "      <th>4641</th>\n",
       "      <td>作为一个商家，我承认我少过别人称，但是都是事出有因的，我只能说对得起自己的良心。有的人买几块...</td>\n",
       "      <td>作为一个商家我承认我少过别人称但是都是事出有因的我只能说对得起自己的良心有的人买几块钱的东西...</td>\n",
       "      <td>3.037655e-09</td>\n",
       "      <td>-1</td>\n",
       "    </tr>\n",
       "    <tr>\n",
       "      <th>2973</th>\n",
       "      <td>我6月23号去看了村超，然后去桂林，没对比就不知道，村超每一个人很热情，害怕给我们留下不好的...</td>\n",
       "      <td>我月号去看了村超然后去桂林没对比就不知道村超每一个人很热情害怕给我们留下不好的印象我很感动到...</td>\n",
       "      <td>1.469647e-11</td>\n",
       "      <td>-1</td>\n",
       "    </tr>\n",
       "  </tbody>\n",
       "</table>\n",
       "<p>12313 rows × 4 columns</p>\n",
       "</div>"
      ],
      "text/plain": [
       "                                                     原文本  \\\n",
       "10522  不好意思，借下热度，请允许我为中药发声\\n中医药是中华民族最宝贵的文化遗产之一，具有多方面的...   \n",
       "11253  爽爽的贵州迎八方来客，欢迎您来贵州村超现场感受浓烈的足球文化氛围，品我们贵州榕江的当地特色美...   \n",
       "10339  希望大家不要嫌烦也不要讨厌，每刷一个视频都会复制一下。希望大家也复制一下，动动手的事。\\n ...   \n",
       "10934  看得我莫名想哭，很多话想说也无从说起，在外地上学太久了真的非常想念我家大贵州，放假好不容易回...   \n",
       "8689   我们贵州人民勤劳朴实好客，山美水美人更美，我们贵州苗族很多 ，美食也很多  欢迎大家多来贵州...   \n",
       "...                                                  ...   \n",
       "5026   没有搞不好的事，只有没有做的人，没有搞不好的体育，只有不用信去做的人！贵州体育，打了全国各地...   \n",
       "5389                            国足：骂骂咧咧地说 取消掉他 取消掉他 取消掉他   \n",
       "3893   前几天哪里我就不说了，我老公这边现在在搞旅游景点开发，前几天搞活动，我一个外地的都觉得丢人宣...   \n",
       "4641   作为一个商家，我承认我少过别人称，但是都是事出有因的，我只能说对得起自己的良心。有的人买几块...   \n",
       "2973   我6月23号去看了村超，然后去桂林，没对比就不知道，村超每一个人很热情，害怕给我们留下不好的...   \n",
       "\n",
       "                                                    text     semiscore  \\\n",
       "10522  不好意思借下热度请允许我为中药发声中医药是中华民族最宝贵的文化遗产之一具有多方面的价值和意义...  1.000000e+00   \n",
       "11253  爽爽的贵州迎八方来客欢迎您来贵州村超现场感受浓烈的足球文化氛围品我们贵州榕江的当地特色美食赏...  1.000000e+00   \n",
       "10339  希望大家不要嫌烦也不要讨厌每刷一个视频都会复制一下希望大家也复制一下动动手的事日本把伤寒论申...  1.000000e+00   \n",
       "10934  看得我莫名想哭很多话想说也无从说起在外地上学太久了真的非常想念我家大贵州放假好不容易回家了看...  1.000000e+00   \n",
       "8689   我们贵州人民勤劳朴实好客山美水美人更美我们贵州苗族很多美食也很多欢迎大家多来贵州感受我们苗族...  1.000000e+00   \n",
       "...                                                  ...           ...   \n",
       "5026   没有搞不好的事只有没有做的人没有搞不好的体育只有不用信去做的人贵州体育打了全国各地狗屎体育强...  3.185351e-08   \n",
       "5389                                国足骂骂咧咧地说取消掉他取消掉他取消掉他  1.793555e-08   \n",
       "3893   前几天哪里我就不说了我老公这边现在在搞旅游景点开发前几天搞活动我一个外地的都觉得丢人宣传本地...  4.521925e-09   \n",
       "4641   作为一个商家我承认我少过别人称但是都是事出有因的我只能说对得起自己的良心有的人买几块钱的东西...  3.037655e-09   \n",
       "2973   我月号去看了村超然后去桂林没对比就不知道村超每一个人很热情害怕给我们留下不好的印象我很感动到...  1.469647e-11   \n",
       "\n",
       "       semilabel  \n",
       "10522          1  \n",
       "11253          1  \n",
       "10339          1  \n",
       "10934          1  \n",
       "8689           1  \n",
       "...          ...  \n",
       "5026          -1  \n",
       "5389          -1  \n",
       "3893          -1  \n",
       "4641          -1  \n",
       "2973          -1  \n",
       "\n",
       "[12313 rows x 4 columns]"
      ]
     },
     "execution_count": 7,
     "metadata": {},
     "output_type": "execute_result"
    }
   ],
   "source": [
    "df.sort_values(by=\"semiscore\" , ascending=False) "
   ]
  },
  {
   "cell_type": "code",
   "execution_count": 8,
   "id": "af1a44fd",
   "metadata": {
    "tags": []
   },
   "outputs": [],
   "source": [
    "df.to_excel(\"D:\\\\情感分析\\\\result\\\\波动期情感分析结果.xlsx\")"
   ]
  },
  {
   "cell_type": "code",
   "execution_count": 9,
   "id": "e5ac99e9",
   "metadata": {
    "tags": []
   },
   "outputs": [],
   "source": [
    "# 多条件筛选时\n",
    "a=df[(df['semilabel'] == 1)]\n",
    "b=df[(df['semilabel'] == 0)]\n",
    "c=df[(df['semilabel'] == -1)]"
   ]
  },
  {
   "cell_type": "code",
   "execution_count": 10,
   "id": "086703a2-4d2b-4f47-92c0-8e4fbb1dccaf",
   "metadata": {
    "tags": []
   },
   "outputs": [
    {
     "data": {
      "image/png": "[encoded data removed]",
      "text/plain": [
       "<Figure size 2000x1200 with 1 Axes>"
      ]
     },
     "metadata": {},
     "output_type": "display_data"
    }
   ],
   "source": [
    "x = ['正向情绪_positive', '负向情绪_negative','中性情绪_neutral']\n",
    "y = [a.shape[0],c.shape[0],b.shape[0]]\n",
    "plt.figure(dpi=200,figsize=(10, 6)) #设置画布大小\n",
    "plt.pie(y,pctdistance=0.85,autopct='%.1f%%', textprops={'fontsize': 12},labels=x, colors=Pastel1_7.hex_colors, wedgeprops=dict(width=0.3, edgecolor='w'))\n",
    "plt.legend(x,loc='center',fontsize=12)\n",
    "plt.title('情感分类环形图',fontsize=14)\n",
    "plt.savefig('D:\\\\情感分析\\\\result\\\\波动期情感分类环形图')\n",
    "plt.show()"
   ]
  },
  {
   "cell_type": "markdown",
   "id": "dfe72f63-29fd-460d-9bf9-a9d85adca881",
   "metadata": {},
   "source": [
    "## 训练 "
   ]
  },
  {
   "cell_type": "markdown",
   "id": "1b9116cb-47bf-4575-9a08-f766859dca62",
   "metadata": {},
   "source": [
    "准备消极和积极情感的文本，分别为neg.txt和pos.txt"
   ]
  },
  {
   "cell_type": "code",
   "execution_count": 5,
   "id": "266478b4-81df-47eb-ab79-f5165a80ffd7",
   "metadata": {
    "tags": []
   },
   "outputs": [],
   "source": [
    "from snownlp import sentiment\n",
    "sentiment.train('neg.txt', 'pos.txt')\n",
    "sentiment.save(\"sentiment.marshal\")"
   ]
  },
  {
   "cell_type": "markdown",
   "id": "30ebad1d-90b2-47b1-a4f5-21b20c00cf04",
   "metadata": {},
   "source": [
    "将训练好的模型sentiment.marshal放到软件snownlp工具包安装路径下"
   ]
  },
  {
   "cell_type": "code",
   "execution_count": null,
   "id": "ffcd2759-2996-4753-8b5b-5b5a1adf46b0",
   "metadata": {},
   "outputs": [],
   "source": []
  }
 ],
 "metadata": {
  "kernelspec": {
   "display_name": "Python 3 (ipykernel)",
   "language": "python",
   "name": "python3"
  },
  "language_info": {
   "codemirror_mode": {
    "name": "ipython",
    "version": 3
   },
   "file_extension": ".py",
   "mimetype": "text/x-python",
   "name": "python",
   "nbconvert_exporter": "python",
   "pygments_lexer": "ipython3",
   "version": "3.11.5"
  }
 },
 "nbformat": 4,
 "nbformat_minor": 5
}
