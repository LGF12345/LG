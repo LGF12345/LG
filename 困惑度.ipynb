{
 "cells": [
  {
   "cell_type": "code",
   "execution_count": 1,
   "id": "4dda7238-a1f1-4ac2-8645-d34c84a2daac",
   "metadata": {
    "tags": []
   },
   "outputs": [],
   "source": [
    "from gensim import corpora, models\n",
    "import math\n",
    "\n",
    "import matplotlib.pyplot as plt\n",
    "\n",
    "\n",
    "def ldamodel(num_topics, pwd):\n",
    "    cop = open(pwd, 'r', encoding='ISO-8859-1')\n",
    " \n",
    "    train = []\n",
    "    for line in cop.readlines():\n",
    "        line = [word.strip() for word in line.split(' ')]\n",
    "        train.append(line) \n",
    "         \n",
    "    dictionary = corpora.Dictionary(train)\n",
    "    corpus = [dictionary.doc2bow(text) for text in train] \n",
    "    \n",
    "    corpora.MmCorpus.serialize('corpus.mm', corpus)\n",
    "    lda = models.LdaModel(corpus=corpus, id2word=dictionary, random_state=1,\n",
    "                          num_topics=num_topics)  \n",
    " \n",
    "    topic_list = lda.print_topics(num_topics, 10)\n",
    "\n",
    "    return lda, dictionary"
   ]
  },
  {
   "cell_type": "code",
   "execution_count": 2,
   "id": "027a25ad-5a3d-44c3-8cf6-c8038c77037b",
   "metadata": {
    "tags": []
   },
   "outputs": [],
   "source": [
    "def perplexity(ldamodel, testset, dictionary, size_dictionary, num_topics):\n",
    "    print('the info of this ldamodel: \\n')\n",
    "    print('num of topics: %s' % num_topics)\n",
    "    prep = 0.0\n",
    "    prob_doc_sum = 0.0\n",
    "    topic_word_list = [] \n",
    "    for topic_id in range(num_topics):\n",
    "        topic_word = ldamodel.show_topic(topic_id, size_dictionary)\n",
    "        dic = {}\n",
    "        for word, probability in topic_word:\n",
    "            dic[word] = probability\n",
    "        topic_word_list.append(dic)  \n",
    "    doc_topics_ist = []  \n",
    "    for doc in testset:\n",
    "        doc_topics_ist.append(ldamodel.get_document_topics(doc, minimum_probability=0))\n",
    "    testset_word_num = 0\n",
    "    for i in range(len(testset)):\n",
    "        prob_doc = 0.0  \n",
    "        doc = testset[i]\n",
    "        doc_word_num = 0  \n",
    "        for word_id, num in dict(doc).items():\n",
    "            prob_word = 0.0  \n",
    "            doc_word_num += num\n",
    "            word = dictionary[word_id]\n",
    "            for topic_id in range(num_topics):\n",
    "                # cal p(w) : p(w) = sumz(p(z)*p(w|z))\n",
    "                prob_topic = doc_topics_ist[i][topic_id][1]\n",
    "                prob_topic_word = topic_word_list[topic_id][word]\n",
    "                prob_word += prob_topic * prob_topic_word\n",
    "            prob_doc += math.log(prob_word)  # p(d) = sum(log(p(w)))\n",
    "        prob_doc_sum += prob_doc\n",
    "        testset_word_num += doc_word_num\n",
    "    prep = math.exp(-prob_doc_sum / testset_word_num)  # perplexity = exp(-sum(p(d)/sum(Nd))\n",
    "    print(\"模型困惑度为 : %s\" % prep)\n",
    "    return prep"
   ]
  },
  {
   "cell_type": "code",
   "execution_count": 12,
   "id": "100d18a1-f18d-4cf8-8f49-99cb6ce950f6",
   "metadata": {
    "tags": []
   },
   "outputs": [],
   "source": [
    "def graph_draw(topic, perplexity):  \n",
    "    x = topic\n",
    "    y = perplexity\n",
    "    plt.plot(x, y, color=\"red\", linewidth=2)\n",
    "    plt.xlabel(\"Number of Topic\")\n",
    "    plt.ylabel(\"Perplexity\")\n",
    "    plt.savefig(\"衰退期Perplexity-Topics\")\n",
    "    plt.show()"
   ]
  },
  {
   "cell_type": "code",
   "execution_count": 13,
   "id": "ee11bab8-9b34-4e14-96a8-c588e6888239",
   "metadata": {
    "tags": []
   },
   "outputs": [
    {
     "name": "stdout",
     "output_type": "stream",
     "text": [
      "抽样为20时的perplexity\n",
      "the info of this ldamodel: \n",
      "\n",
      "num of topics: 1\n",
      "模型困惑度为 : 1147.1516791723056\n",
      "the info of this ldamodel: \n",
      "\n",
      "num of topics: 2\n",
      "模型困惑度为 : 1018.0796070161376\n",
      "the info of this ldamodel: \n",
      "\n",
      "num of topics: 3\n",
      "模型困惑度为 : 776.4808038790109\n",
      "the info of this ldamodel: \n",
      "\n",
      "num of topics: 4\n",
      "模型困惑度为 : 622.3612182714058\n",
      "the info of this ldamodel: \n",
      "\n",
      "num of topics: 5\n",
      "模型困惑度为 : 546.4459898486142\n",
      "the info of this ldamodel: \n",
      "\n",
      "num of topics: 6\n",
      "模型困惑度为 : 477.603393012459\n",
      "the info of this ldamodel: \n",
      "\n",
      "num of topics: 7\n",
      "模型困惑度为 : 417.14129644324794\n",
      "the info of this ldamodel: \n",
      "\n",
      "num of topics: 8\n",
      "模型困惑度为 : 374.7040555378434\n",
      "the info of this ldamodel: \n",
      "\n",
      "num of topics: 9\n",
      "模型困惑度为 : 352.4399385053639\n",
      "the info of this ldamodel: \n",
      "\n",
      "num of topics: 10\n",
      "模型困惑度为 : 330.72102498625657\n"
     ]
    },
    {
     "data": {
      "image/png": "[encoded data removed]",
      "text/plain": [
       "<Figure size 640x480 with 1 Axes>"
      ]
     },
     "metadata": {},
     "output_type": "display_data"
    }
   ],
   "source": [
    "if __name__ == '__main__':\n",
    "    pwd = 'D:/情感分析/data/衰退期.xlsx'\n",
    "    for i in range(20,21,1): \n",
    "        print(\"抽样为\"+str(i)+\"时的perplexity\")\n",
    "        a=range(1,11,1) # 主题个数\n",
    "        p=[]\n",
    "        for num_topics in a:\n",
    "            lda, dictionary = ldamodel(num_topics, pwd)\n",
    "            corpus = corpora.MmCorpus('corpus.mm')\n",
    "            testset = []\n",
    "            for c in range(int(corpus.num_docs/i)):\n",
    "                testset.append(corpus[c*i])\n",
    "            prep = perplexity(lda, testset, dictionary, len(dictionary.keys()), num_topics)\n",
    "            p.append(prep)\n",
    "        graph_draw(a,p)\n"
   ]
  },
  {
   "cell_type": "code",
   "execution_count": null,
   "id": "79c01cbd-8de5-402f-9efd-dc9828add677",
   "metadata": {},
   "outputs": [],
   "source": []
  }
 ],
 "metadata": {
  "kernelspec": {
   "display_name": "Python 3 (ipykernel)",
   "language": "python",
   "name": "python3"
  },
  "language_info": {
   "codemirror_mode": {
    "name": "ipython",
    "version": 3
   },
   "file_extension": ".py",
   "mimetype": "text/x-python",
   "name": "python",
   "nbconvert_exporter": "python",
   "pygments_lexer": "ipython3",
   "version": "3.11.5"
  }
 },
 "nbformat": 4,
 "nbformat_minor": 5
}
